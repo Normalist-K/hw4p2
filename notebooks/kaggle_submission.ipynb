{
 "cells": [
  {
   "cell_type": "code",
   "execution_count": 8,
   "metadata": {},
   "outputs": [
    {
     "name": "stdout",
     "output_type": "stream",
     "text": [
      "100%|████████████████████████████████████████| 289k/289k [00:03<00:00, 78.5kB/s]\n",
      "Successfully submitted to Attention-Based Speech Recognition (Slack)"
     ]
    }
   ],
   "source": [
    "import os\n",
    "\n",
    "sub_dir = '/shared/youngkim/hw4p2_student_data/hw4p2_student_data/submissions/'\n",
    "# sub_dir = '/root/class/cmu/DL/hw4p2/notebooks'\n",
    "\n",
    "name = 'cnn-07:16:07:26'\n",
    "csv = os.path.join(sub_dir, f'{name}.csv')\n",
    "!kaggle competitions submit -c 11-785-s22-hw4p2-slack -f {csv} -m 'cnn-07:16:07:26'\n",
    "# !kaggle competitions submit -c 11-785-s22-hw4p2-slack -f {csv} -m 'original-07:06:03:59'"
   ]
  },
  {
   "cell_type": "code",
   "execution_count": 5,
   "metadata": {},
   "outputs": [
    {
     "data": {
      "text/html": [
       "<div>\n",
       "<style scoped>\n",
       "    .dataframe tbody tr th:only-of-type {\n",
       "        vertical-align: middle;\n",
       "    }\n",
       "\n",
       "    .dataframe tbody tr th {\n",
       "        vertical-align: top;\n",
       "    }\n",
       "\n",
       "    .dataframe thead th {\n",
       "        text-align: right;\n",
       "    }\n",
       "</style>\n",
       "<table border=\"1\" class=\"dataframe\">\n",
       "  <thead>\n",
       "    <tr style=\"text-align: right;\">\n",
       "      <th></th>\n",
       "      <th>id</th>\n",
       "      <th>predictions</th>\n",
       "    </tr>\n",
       "  </thead>\n",
       "  <tbody>\n",
       "    <tr>\n",
       "      <th>0</th>\n",
       "      <td>0</td>\n",
       "      <td>.HIbIgAnhkhnf?UzdkhmplEnthgenstDhWisrd.HUAdvAn...</td>\n",
       "    </tr>\n",
       "    <tr>\n",
       "      <th>1</th>\n",
       "      <td>1</td>\n",
       "      <td>.kivnatsO.rnisthmyndthDIzmhmrIzcyld.</td>\n",
       "    </tr>\n",
       "    <tr>\n",
       "      <th>2</th>\n",
       "      <td>2</td>\n",
       "      <td>.hgOldhnfoRchnindhHApIlyf..</td>\n",
       "    </tr>\n",
       "    <tr>\n",
       "      <th>3</th>\n",
       "      <td>3</td>\n",
       "      <td>.HIWhzlykhnthmyfaDrindhWE.And?etWhznatmyfaDr.</td>\n",
       "    </tr>\n",
       "    <tr>\n",
       "      <th>4</th>\n",
       "      <td>4</td>\n",
       "      <td>.olsODeRWhzhstRipliNpEj.HUtrndittUhmEd.</td>\n",
       "    </tr>\n",
       "    <tr>\n",
       "      <th>...</th>\n",
       "      <td>...</td>\n",
       "      <td>...</td>\n",
       "    </tr>\n",
       "    <tr>\n",
       "      <th>2615</th>\n",
       "      <td>2615</td>\n",
       "      <td>..HIHAdgatintUHrkoRt?aRd.</td>\n",
       "    </tr>\n",
       "    <tr>\n",
       "      <th>2616</th>\n",
       "      <td>2616</td>\n",
       "      <td>..TRUDhblAg.nytREn.HIsANtUHrWindObaRz.</td>\n",
       "    </tr>\n",
       "    <tr>\n",
       "      <th>2617</th>\n",
       "      <td>2617</td>\n",
       "      <td>.DAtWhzbhtRhsliNhvtRipiNplAntsinDhdaRk.</td>\n",
       "    </tr>\n",
       "    <tr>\n",
       "      <th>2618</th>\n",
       "      <td>2618</td>\n",
       "      <td>..SIWhzhlOnDAtnyt.</td>\n",
       "    </tr>\n",
       "    <tr>\n",
       "      <th>2619</th>\n",
       "      <td>2619</td>\n",
       "      <td>.HIHAdbROkhnintUHrkWiR?aRnd.</td>\n",
       "    </tr>\n",
       "  </tbody>\n",
       "</table>\n",
       "<p>2620 rows × 2 columns</p>\n",
       "</div>"
      ],
      "text/plain": [
       "        id                                        predictions\n",
       "0        0  .HIbIgAnhkhnf?UzdkhmplEnthgenstDhWisrd.HUAdvAn...\n",
       "1        1               .kivnatsO.rnisthmyndthDIzmhmrIzcyld.\n",
       "2        2                        .hgOldhnfoRchnindhHApIlyf..\n",
       "3        3      .HIWhzlykhnthmyfaDrindhWE.And?etWhznatmyfaDr.\n",
       "4        4            .olsODeRWhzhstRipliNpEj.HUtrndittUhmEd.\n",
       "...    ...                                                ...\n",
       "2615  2615                          ..HIHAdgatintUHrkoRt?aRd.\n",
       "2616  2616             ..TRUDhblAg.nytREn.HIsANtUHrWindObaRz.\n",
       "2617  2617            .DAtWhzbhtRhsliNhvtRipiNplAntsinDhdaRk.\n",
       "2618  2618                                 ..SIWhzhlOnDAtnyt.\n",
       "2619  2619                       .HIHAdbROkhnintUHrkWiR?aRnd.\n",
       "\n",
       "[2620 rows x 2 columns]"
      ]
     },
     "execution_count": 5,
     "metadata": {},
     "output_type": "execute_result"
    }
   ],
   "source": [
    "import pandas as pd\n",
    "pd.read_csv(csv, index_col=False)"
   ]
  },
  {
   "cell_type": "code",
   "execution_count": null,
   "metadata": {},
   "outputs": [],
   "source": []
  }
 ],
 "metadata": {
  "interpreter": {
   "hash": "f3c4dd319ecd10802be1c77dfdfd6b25af6a7d32bbb2d7a1dac30da2e89c7158"
  },
  "kernelspec": {
   "display_name": "Python 3.8.12 ('happywhale')",
   "language": "python",
   "name": "python3"
  },
  "language_info": {
   "codemirror_mode": {
    "name": "ipython",
    "version": 3
   },
   "file_extension": ".py",
   "mimetype": "text/x-python",
   "name": "python",
   "nbconvert_exporter": "python",
   "pygments_lexer": "ipython3",
   "version": "3.8.12"
  },
  "orig_nbformat": 4
 },
 "nbformat": 4,
 "nbformat_minor": 2
}
