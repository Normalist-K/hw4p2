{
 "cells": [
  {
   "cell_type": "code",
   "execution_count": 1,
   "metadata": {},
   "outputs": [],
   "source": [
    "import os\n",
    "import os.path as osp\n",
    "from glob import glob\n",
    "import numpy as np\n",
    "import pandas as pd"
   ]
  },
  {
   "cell_type": "code",
   "execution_count": 22,
   "metadata": {},
   "outputs": [],
   "source": [
    "root = '/shared/youngkim/'\n",
    "data = osp.join(root, 'hw4p2_student_data/hw4p2_student_data')\n",
    "train_mfcc_dir = osp.join(data, 'train/mfcc')\n",
    "train_trans_dir = osp.join(data, 'train/transcript')\n",
    "dev_mfcc_dir = osp.join(data, 'dev/mfcc')\n",
    "dev_trans_dir = osp.join(data, 'dev/transcript')\n",
    "test_mfcc_dir = osp.join(data, 'test/mfcc')\n",
    "test_trans_dir = osp.join(data, 'test/transcript')\n",
    "train_ids = os.listdir(train_mfcc_dir)\n",
    "dev_ids = os.listdir(dev_mfcc_dir)\n",
    "test_ids = os.listdir(test_mfcc_dir)\n",
    "\n",
    "toy = osp.join(root, 'hw4p2_simple/hw4p2_simple')\n",
    "toy_train_mfcc = osp.join(toy, 'train.npy')\n",
    "toy_train_trans = osp.join(toy, 'train_transcripts.npy')\n",
    "toy_dev_mfcc = osp.join(toy, 'dev.npy')\n",
    "toy_dev_trans = osp.join(toy, 'dev_transcripts.npy')\n",
    "toy_test_mfcc = osp.join(toy, 'test.npy')\n",
    "toy_test_trans = osp.join(toy, 'test_transcripts.npy')\n",
    "\n",
    "LETTER_LIST = ['<sos>', 'A', 'B', 'C', 'D', 'E', 'F', 'G', 'H', 'I', \\\n",
    "                'H', 'I', 'J', 'K', 'L', 'M', 'N', 'O', 'P', 'Q', 'R', \\\n",
    "                'S', 'T', 'U', 'V', 'W', 'X', 'Y', 'Z', \"'\", ' ', '<eos>']"
   ]
  },
  {
   "cell_type": "code",
   "execution_count": 18,
   "metadata": {},
   "outputs": [
    {
     "data": {
      "text/plain": [
       "(1398, 13)"
      ]
     },
     "execution_count": 18,
     "metadata": {},
     "output_type": "execute_result"
    }
   ],
   "source": [
    "sample_train_mfcc_path = osp.join(train_mfcc_dir, train_ids[0])\n",
    "sample_train_mfcc = np.load(sample_train_mfcc_path, allow_pickle=True)\n",
    "sample_train_mfcc.shape"
   ]
  },
  {
   "cell_type": "code",
   "execution_count": 20,
   "metadata": {},
   "outputs": [
    {
     "data": {
      "text/plain": [
       "((219,),\n",
       " array(['<sos>', 'A', 'N', 'D', ' ', 'B', 'E', 'G', 'A', 'N'], dtype='<U5'))"
      ]
     },
     "execution_count": 20,
     "metadata": {},
     "output_type": "execute_result"
    }
   ],
   "source": [
    "sample_train_trans_path = osp.join(train_trans_dir, train_ids[0])\n",
    "sample_train_trans = np.load(sample_train_trans_path, allow_pickle=True)\n",
    "sample_train_trans.shape, sample_train_trans[:10]"
   ]
  },
  {
   "cell_type": "code",
   "execution_count": 24,
   "metadata": {},
   "outputs": [
    {
     "data": {
      "text/plain": [
       "[0, 1, 16, 4, 30, 2, 5, 7, 1, 16]"
      ]
     },
     "execution_count": 24,
     "metadata": {},
     "output_type": "execute_result"
    }
   ],
   "source": [
    "Yy = [LETTER_LIST.index(yy) for yy in sample_train_trans]\n",
    "Yy[:10]"
   ]
  },
  {
   "cell_type": "code",
   "execution_count": 21,
   "metadata": {},
   "outputs": [
    {
     "data": {
      "text/plain": [
       "(100,)"
      ]
     },
     "execution_count": 21,
     "metadata": {},
     "output_type": "execute_result"
    }
   ],
   "source": [
    "np.load(toy_dev_mfcc, allow_pickle=True).shape"
   ]
  },
  {
   "cell_type": "code",
   "execution_count": null,
   "metadata": {},
   "outputs": [],
   "source": []
  }
 ],
 "metadata": {
  "interpreter": {
   "hash": "f3c4dd319ecd10802be1c77dfdfd6b25af6a7d32bbb2d7a1dac30da2e89c7158"
  },
  "kernelspec": {
   "display_name": "Python 3.8.12 ('happywhale')",
   "language": "python",
   "name": "python3"
  },
  "language_info": {
   "codemirror_mode": {
    "name": "ipython",
    "version": 3
   },
   "file_extension": ".py",
   "mimetype": "text/x-python",
   "name": "python",
   "nbconvert_exporter": "python",
   "pygments_lexer": "ipython3",
   "version": "3.8.12"
  },
  "orig_nbformat": 4
 },
 "nbformat": 4,
 "nbformat_minor": 2
}
